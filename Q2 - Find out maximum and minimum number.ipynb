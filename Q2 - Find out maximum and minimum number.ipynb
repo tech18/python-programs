{
 "cells": [
  {
   "cell_type": "code",
   "execution_count": 7,
   "metadata": {},
   "outputs": [
    {
     "name": "stdout",
     "output_type": "stream",
     "text": [
      "\n",
      "How many numbers would you like to enter?3\n",
      "\n",
      " Enter the number#1   :98\n",
      "\n",
      " Enter the number#2   :0.98\n",
      "\n",
      " Enter the number#3   :90.18\n",
      "\n",
      "The entered number are: [98.0, 0.98, 90.18]\n",
      "Largest number is 98.0\n",
      "\n",
      "Smallest number is 0.98\n",
      "\n"
     ]
    }
   ],
   "source": [
    "#Write a program to accept ‘n’ numbers from user , store these numbers into an array. Find out maximum and minimum number from an Array.\n",
    "\n",
    "#function to check whether the input is number or not (also validates float)\n",
    "def numCheck (string) :\n",
    "    temp = str(string)\n",
    "    if (temp.isnumeric() or temp.replace('.','',1).isdigit()) :\n",
    "        return True\n",
    "    else :\n",
    "        return False\n",
    "    \n",
    "#function to collect numbers and return as a list\n",
    "def collectNum (length) :\n",
    "        i = 0\n",
    "        num_list =[]\n",
    "        while (i < length) :\n",
    "            temp = str((input(f'\\n Enter the number#{i+1}   :')))\n",
    "            if not (numCheck(temp)) :\n",
    "                print('Please enter numbers only')\n",
    "            else :\n",
    "                num_list.append(float(temp))\n",
    "                i += 1\n",
    "        print(f'\\nThe entered number are: {num_list}')\n",
    "        return num_list\n",
    "\n",
    "cont = True\n",
    "num_list = []\n",
    "while (cont) :\n",
    "    \n",
    "    #How many numbers the user wants to input\n",
    "    num_len = int(input(\"\\nHow many numbers would you like to enter?\"))\n",
    "    if numCheck(num_len) :\n",
    "        num_list = collectNum(int(num_len))\n",
    "        \n",
    "        #finding maximum and minimum in a list using max and min inbuilt function\n",
    "        max_num = max(num_list)\n",
    "        min_num = min(num_list)\n",
    "        print(f\"Largest number is {max_num}\\n\")\n",
    "        print(f\"Smallest number is {min_num}\\n\")\n",
    "        cont = False\n",
    "            \n",
    "    else :\n",
    "        print('Please enter numbers only')\n",
    "        cont = True"
   ]
  }
 ],
 "metadata": {
  "kernelspec": {
   "display_name": "Python 3",
   "language": "python",
   "name": "python3"
  },
  "language_info": {
   "codemirror_mode": {
    "name": "ipython",
    "version": 3
   },
   "file_extension": ".py",
   "mimetype": "text/x-python",
   "name": "python",
   "nbconvert_exporter": "python",
   "pygments_lexer": "ipython3",
   "version": "3.8.5"
  }
 },
 "nbformat": 4,
 "nbformat_minor": 4
}
